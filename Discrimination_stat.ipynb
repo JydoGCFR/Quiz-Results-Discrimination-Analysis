{
 "cells": [
  {
   "cell_type": "markdown",
   "metadata": {
    "id": "GacMba-5t1SX"
   },
   "source": [
    "# Python for Analytics\n",
    "__Name__: Jide Afolabi<br>\n",
    "__Date__: March 3, 2024 <br />\n",
    "__Project__: Python <br />\n",
    "__Purpose__: Use of pandas to read and analyze a data file, calculating a correlation between test questions and overall performance.\n"
   ]
  },
  {
   "cell_type": "markdown",
   "metadata": {
    "id": "WjernZjFt1Sa"
   },
   "source": [
    "### Objective\n",
    "Using a combination of Pandas, NumPy, and native Python analyze a data file `P4-ScoreData.csv` which contains results for a quiz for which you will need to calculate the  _Discrimination_ statistic for each question, calculating a correlation between test questions and overall performance. Correlation may be applied to exam and quiz question results to determine how effective each question is at differentiating between students that did well and students that did not do well on the assessment. \n",
    "\n",
    "> _Discrimination_: Indicates how well a question differentiates between students who know the subject matter and those who don't. A question is a good discriminator when students who answer the question correctly also do well on the test. Values can range from -1.0 to +1.0. A question is flagged for review if its discrimination value is less than 0.1 or negative. Discrimination values can't be calculated when the question's difficulty score is 100% or when all students receive the same score on a question.\n",
    "\n",
    "> Discrimination values are calculated with the Pearson correlation coefficient. `X` represents the scores of each student on a question and `Y` represents the scores of each student on the test.\n",
    " \n",
    "> These variables are the standard score, sample mean, and sample standard deviation, respectively:"
   ]
  },
  {
   "cell_type": "code",
   "execution_count": 1,
   "metadata": {
    "tags": []
   },
   "outputs": [
    {
     "name": "stdout",
     "output_type": "stream",
     "text": [
      "Number of students: 15\n",
      "Number of questions: 10\n",
      "\n",
      "Discrimination Statistics for each question:\n",
      "                Q1        Q2        Q3        Q4        Q5        Q6  \\\n",
      "Name                                                                   \n",
      "Sophia    0.145635 -0.054982  0.195744 -0.146537  0.079132  0.092482   \n",
      "Muhammad  0.549442  1.763163  0.147698 -0.201034 -0.298544  0.959496   \n",
      "Olivia    0.622260 -0.117461  0.167272  0.113838  0.169055  0.938478   \n",
      "Aiden     3.137780  3.356382  3.655079  3.922580 -0.568313  4.317207   \n",
      "Mia       0.218453  0.082473  0.234893  0.219805 -0.118698  0.121382   \n",
      "Liam      0.635500 -0.679774  0.968044  0.077507  0.115101  0.638963   \n",
      "Isabella  0.688458 -0.129957 -0.092534  1.070565  0.187040  0.218593   \n",
      "Elijah    0.039719 -0.048734  0.021354  0.019982 -0.010791  0.034681   \n",
      "Ava       0.443526  1.088387 -0.119226  1.379382 -3.373907  0.281648   \n",
      "Mateo    -0.145635  0.357381 -0.156595  0.053286  0.079132 -0.080921   \n",
      "Zoe       0.059578  0.007498 -0.026692 -0.007266 -0.010791 -0.012611   \n",
      "Jackson   1.019447  1.250833  0.274042 -0.512878  0.276963  0.323685   \n",
      "Aaliyah   1.926358 -0.242419  1.898719  1.997016  0.348901  1.936858   \n",
      "Noah      1.429874 -1.754415  2.498408  2.681257 -0.388467  2.099751   \n",
      "Priya     0.185354  0.069977  0.049826 -0.067819 -0.100714  0.102991   \n",
      "\n",
      "                Q7        Q8        Q9       Q10  \n",
      "Name                                              \n",
      "Sophia    0.111744 -0.131189  0.171529  0.250611  \n",
      "Muhammad  0.105395 -0.433074  2.126297  0.827301  \n",
      "Olivia    0.387928  0.245234  0.366449  0.535396  \n",
      "Aiden     1.203783  4.475342 -1.231893  2.699765  \n",
      "Mia       0.041904  0.196784  0.294050  0.093979  \n",
      "Liam      0.365706  0.166968  0.249497  0.364525  \n",
      "Isabella  0.429197  0.852730  0.405433  0.962574  \n",
      "Elijah    0.013333  0.017889 -0.023390  0.051261  \n",
      "Ava       0.340310  1.098710  0.522385 -0.190806  \n",
      "Mateo    -0.027936  0.114791 -0.563597 -0.062653  \n",
      "Zoe      -0.015238 -0.015653 -0.023390  0.029902  \n",
      "Jackson   0.635542 -0.459162  0.600353  0.877139  \n",
      "Aaliyah   1.108547  1.590669  0.756289  2.486176  \n",
      "Noah      4.937036  3.059094 -0.842054  1.845409  \n",
      "Priya     0.035555 -0.146097  0.717305  0.279090  \n",
      "\n",
      "Resulting question Discrimination statistics:\n",
      "Q1     0.782554\n",
      "Q2     0.353454\n",
      "Q3     0.694002\n",
      "Q4     0.757120\n",
      "Q5    -0.258207\n",
      "Q6     0.855192\n",
      "Q7     0.690915\n",
      "Q8     0.759503\n",
      "Q9     0.251805\n",
      "Q10    0.789262\n",
      "dtype: float64\n",
      "\n",
      "Discrimination statistics using alternative pandas correlation function corrwith\n",
      "Q1     0.782554\n",
      "Q2     0.353454\n",
      "Q3     0.694002\n",
      "Q4     0.757120\n",
      "Q5    -0.258207\n",
      "Q6     0.855192\n",
      "Q7     0.690915\n",
      "Q8     0.759503\n",
      "Q9     0.251805\n",
      "Q10    0.789262\n",
      "dtype: float64\n"
     ]
    },
    {
     "data": {
      "text/plain": [
       "' a. Which question appears to need review based on a negative Discrimination statistic? \\n        Question 5 with a correlative coefficient of -0.258207 appears to needs to be reviewed and this is particularly because \\n        students who had a better overall quiz performance did poorly in this question. \\n        \\n    b. Why might this not be an appropriate interpretation given the actual student scores?\\n        A negative correlation, nevertheless, does not imply that the question in question 5 is flawed or that students who \\n        performed better on the quiz performed worse on that specific question; rather, it may be attributable to other \\n        unrelated variables.\\n'"
      ]
     },
     "execution_count": 1,
     "metadata": {},
     "output_type": "execute_result"
    }
   ],
   "source": [
    "import pandas as pd\n",
    "import numpy as np\n",
    "\n",
    "# Read in the csv file\n",
    "filename = 'P4-ScoreData.csv'\n",
    "df = pd.read_csv(filename)\n",
    "# Use .fillna to fill up the missing values with zeros\n",
    "df.fillna(0, inplace=True)\n",
    "# Use the .set_index to make the name column the index\n",
    "df.set_index('Name', inplace=True)        \n",
    "# Unpack the shape attribute and print the number of students and the number of questions\n",
    "num_students, num_questions = df.shape\n",
    "print('Number of students:', num_students)\n",
    "print('Number of questions:', num_questions)\n",
    "print()\n",
    "\n",
    "# Calculate the mean score and standard deviation for each question\n",
    "question_mean = df.mean(axis=0)\n",
    "question_stddev = df.std(axis=0)\n",
    "\n",
    "# Create a new column named Total and calculate the total score for each student \n",
    "df['Total'] = df.sum(axis=1)\n",
    "\n",
    "# Calculate the overall quiz mean and standard deviation\n",
    "Overall_quiz_mean = df['Total'].mean()\n",
    "Overall_quiz_stddev = df['Total'].std()\n",
    "\n",
    "# Create a new dataframe by slicing the previous DataFrame to include only the first 10 question columns\n",
    "question_columns_df = df.iloc[:, :10]\n",
    "\n",
    "# Initialize a DataFrame to store the discrimination statistics for each question\n",
    "discrimination_stat_df = pd.DataFrame()\n",
    "# Calculate the discrimination statistics for each question\n",
    "for col in question_columns_df.columns:\n",
    "    x_diff = (question_columns_df[col] - question_mean[col]) # Calculate the difference between student's score on a question vs question mean \n",
    "    x_term = x_diff / question_stddev[col] # Divide by the question's standard deviation\n",
    "    \n",
    "    y_diff = (df['Total'] - Overall_quiz_mean) # Calculate the difference between student's total on a question vs overall quiz mean\n",
    "    y_term = y_diff / Overall_quiz_stddev # Divide by the overall standard deviation of the quiz\n",
    "    \n",
    "    discrimination_stat_df[col] = x_term * y_term # Multiply the x and y terms\n",
    "print(\"Discrimination Statistics for each question:\") # Print the discrimination statistics dataframe\n",
    "print(discrimination_stat_df)\n",
    "\n",
    "# Sum the product terms and divide by the number of students less 1 to get the discrimination statistics for each question\n",
    "question_discrimination_stat = discrimination_stat_df.sum(axis=0) / (num_students - 1)\n",
    "\n",
    "# Print the resulting question discrimination statistics\n",
    "print('\\nResulting question Discrimination statistics:')\n",
    "print(question_discrimination_stat)\n",
    "\n",
    "# Calculate the discrimination statistics using pandas corrwith function\n",
    "print('\\nDiscrimination statistics using alternative pandas correlation function corrwith')\n",
    "alt_ques_discrimination_stat = question_columns_df.corrwith(df['Total'], axis = 0) \n",
    "print(alt_ques_discrimination_stat)\n",
    "\n",
    "\"\"\" a. Which question appears to need review based on a negative Discrimination statistic? \n",
    "        Question 5 with a correlative coefficient of -0.258207 appears to needs to be reviewed and this is particularly because \n",
    "        students who had a better overall quiz performance did poorly in this question. \n",
    "        \n",
    "    b. Why might this not be an appropriate interpretation given the actual student scores?\n",
    "        A negative correlation, nevertheless, does not imply that the question in question 5 is flawed or that students who \n",
    "        performed better on the quiz performed worse on that specific question; rather, it may be attributable to other \n",
    "        unrelated variables.\n",
    "\"\"\""
   ]
  },
  {
   "cell_type": "markdown",
   "metadata": {
    "id": "bexgWeCMt1Sn"
   },
   "source": [
    "### Methodology\n",
    "1. Used pandas `.read_csv` function to read the `P4-ScoreData.csv` file into a `DataFrame` and saved the data file in the same folder as my Notebook. This way, I can simply use the filename without additional path information when reading the file. \n",
    "2. A few students left some questions unanswered when taking the quiz. These appear as `NaN` values in the `DataFrame`. I used the `.fillna` method of the `DataFrame` to fill those missing values with zeros \n",
    "3. The student names are simply labels for the row-level data. Used the `.set_index` method of the `DataFrame` to turn the `Name` column into the index. Included the `inplace=True` argument to modify the `DataFrame` object instead of returning a copy. I had 15 students and 10 questions.\n",
    "5. Calculated the mean score for each question using the `mean` method of the `DataFrame` and stored in a variable that I can reference later when calculating the Discrimination statistic. Using the default axis of the `DataFrame` produced a mean for each of the 10 questions. \n",
    "6. Similarly, calculated the sample standard deviation for each question using the `std` method of the `DataFrame` and stored in a variable that I can reference later when calculating the Discrimination statistic. Using the default axis of the `DataFrame` produced a standard deviation for each of the 10 questions. \n",
    "7. Added a new column named `Total` to the `DataFrame` using the `sum` method of the `DataFrame`, specifying `axis=1`. Printed the `DataFrame` after this step to ensure that each student's total score for the quiz was calculated correctly.\n",
    "8. Calculated the overall quiz mean by calling the `mean` method on the `DataFrame`'s `Total` column and stored in a variable that I can reference later when calculating the Discrimination statistic. \n",
    "9. Similarly, calculated the sample standard deviation of the overall quiz scores by calling the `std` method on the `DataFrame`'s `Total` column and stored it in a variable that I can reference later when calculating the Discrimination statistic. \n",
    "10. For the next step, I isolated the 10 question columns. An easy way to do this was to create an index by slicing the `columns` attributed to include only the first 10 columns.\n",
    "11. To finish the calculation of the Discrimation statistic step-by-step for each question, I calculated the difference between each student's score on that question and the question's mean. This difference was then divided by that question's standard deviation. This is the term involving the `X`'s in the equation above.\n",
    "12. In addition, I calculatedd the difference between each student's total score on the quiz and the overall quiz mean. This difference was then divided by the sample standard deviation of the overall quiz scores. This is the term involving the `Y`'s in the equation above.\n",
    "13. Next, calculated the product of these two term variables I created in the previous two steps. I used the Transposition of score differences constructed in Step 11 above when multiplying.\n",
    "14. Finally, to complete the calculation of the Discrimation statistic for each question, I sumed the Transposition of the product calculated in the previous step and divide that sum by `num_students-1`. Printed the resulting question Discrimination statistics.\n",
    "15. A much simpler way to calculate the Discrimination statistic was simply to use pandas `corrwith` method to calculate the Pearson correlation coefficient for all the quiz questions correlated with the `Total` column calculated in Step 7 above. This should result in the same Discrimination statistic for each of the quiz questions but without needing Steps 8-14 above. Print this result and compare to the values you calculated step-by-step earlier. Before printing, I droped the `Total` from the Series produced as my result (as it will obviously correlate perfectly with itself). \n",
    "\n",
    "### Summary\n",
    "Using the information my analysis yielded, I answered the following at the bottom of my code.<br />a. Which question appears to need review based on a negative Discrimination statistic (suggesting students who did better on the quiz overall actually did worse on this question)?<br />b. Why might this not be an appropriate interpretation given the actual student scores?"
   ]
  }
 ],
 "metadata": {
  "colab": {
   "collapsed_sections": [],
   "name": "Prog1.ipynb",
   "provenance": []
  },
  "kernelspec": {
   "display_name": "Python 3 (ipykernel)",
   "language": "python",
   "name": "python3"
  },
  "language_info": {
   "codemirror_mode": {
    "name": "ipython",
    "version": 3
   },
   "file_extension": ".py",
   "mimetype": "text/x-python",
   "name": "python",
   "nbconvert_exporter": "python",
   "pygments_lexer": "ipython3",
   "version": "3.11.5"
  }
 },
 "nbformat": 4,
 "nbformat_minor": 4
}
